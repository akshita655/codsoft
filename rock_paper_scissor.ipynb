{
 "cells": [
  {
   "cell_type": "code",
   "execution_count": null,
   "id": "b95a9ee6-c7f8-4913-9a9d-6718233b9c37",
   "metadata": {},
   "outputs": [],
   "source": [
    "import random\n",
    "points=0\n",
    "\n",
    "while True:\n",
    "    user_choice = input(\"Enter a  choice(rock, paper, scissor):\")\n",
    "    choices = [\"rock\",\"paper\",\"scissors\"]\n",
    "    comp_choice = random.choice(choices)\n",
    "    print(f\"Your choice:{user_choice} ,Computer choice:{comp_choice}\")\n",
    "\n",
    "    if user_choice == comp_choice:\n",
    "        print(f\"Both players selected {user_choice}. It's a tie\")\n",
    "    elif user_choice == \"rock\":\n",
    "        if comp_choice == \"scissors\":\n",
    "            points=points+1\n",
    "            print(\"Rock smashes scissors! You win.\")\n",
    "        else:\n",
    "            print(\"Paper covers rock! You lose.\")\n",
    "    elif user_choice == \"paper\":\n",
    "        if comp_choice == \"rock\":\n",
    "            points=points+1\n",
    "            print(\"Paper covers rock! You win.\")\n",
    "        else:\n",
    "            print(\"Scissors cuts paper! You lose.\")\n",
    "    elif user_choice == \"scissor\":\n",
    "        if comp_choice == \"paper\":\n",
    "            points=points+1\n",
    "            print(\"Scissors cuts paper! You win.\")\n",
    "        else:\n",
    "            print(\"Rock smashes scissors! You lose.\")\n",
    "    play=input(\"Play Again? (y/n): \")\n",
    "    if play.lower()!=\"y\":\n",
    "        print(\"Your Scored: \",points)\n",
    "        print(\"Thank You for playing!\")\n",
    "        break\n"
   ]
  },
  {
   "cell_type": "code",
   "execution_count": null,
   "id": "bc517e02-9383-446e-961c-78d7d78ac61f",
   "metadata": {},
   "outputs": [],
   "source": []
  }
 ],
 "metadata": {
  "kernelspec": {
   "display_name": "Python 3 (ipykernel)",
   "language": "python",
   "name": "python3"
  },
  "language_info": {
   "codemirror_mode": {
    "name": "ipython",
    "version": 3
   },
   "file_extension": ".py",
   "mimetype": "text/x-python",
   "name": "python",
   "nbconvert_exporter": "python",
   "pygments_lexer": "ipython3",
   "version": "3.11.7"
  }
 },
 "nbformat": 4,
 "nbformat_minor": 5
}
