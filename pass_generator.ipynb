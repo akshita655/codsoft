{
 "cells": [
  {
   "cell_type": "code",
   "execution_count": null,
   "id": "4a02ec71-3dea-454d-8bcc-aeab37a079f0",
   "metadata": {},
   "outputs": [],
   "source": [
    "from tkinter import *\n",
    "import random\n",
    "\n",
    "root=Tk()\n",
    "root.title(\"Password Generator\")\n",
    "root.geometry(\"400x400\")\n",
    "str = StringVar()\n",
    "len = IntVar()\n",
    "\n",
    "def generate():\n",
    "    pass1 = ['a','b','c','d','e','f','g','h','i','j','k','l','m','n','o','p','q','r','s','t','u','v','w','x','y','z',\n",
    "            'A','B','C','D','E','F','G','H','I','J','K','L','M','N','O','P','Q','R','S','T','U','V','W','X','Y','Z',\n",
    "            '1','2','3','4','5','6','7','8','9','0','!','@','#','$','%','^','&','*','(',')']\n",
    "    password = \"\"\n",
    "    for x in range(len.get()):\n",
    "        password = password + random.choice(pass1)\n",
    "    str.set(password)\n",
    "\n",
    "def copytoclip():\n",
    "    root.clipboard_clear()\n",
    "    root.clipboard_append(str.get())\n",
    "\n",
    "l1 = Label(root,text = \"Random Password Generator\",font=(\"Helvetica\",18))\n",
    "l1.pack()\n",
    "\n",
    "l2 = Label(root,text = \"Enter Password length\",)\n",
    "l2.pack(padx=10,pady=10)\n",
    "\n",
    "e1 = Entry(root,textvariable = len)\n",
    "e1.pack(padx=20,pady=10)\n",
    "\n",
    "e2 = Entry(root,textvariable=str)\n",
    "e2.pack(padx=30,pady = 10)\n",
    "\n",
    "b1 = Button(root,text = \"Generate Password\",command = generate)\n",
    "b1.pack(padx=40,pady=20)\n",
    "\n",
    "b2 = Button(root,text = \"Copy to clipboard\",command = copytoclip)\n",
    "b2.pack(padx=40,pady=20)\n",
    "\n",
    "root.mainloop()"
   ]
  },
  {
   "cell_type": "code",
   "execution_count": null,
   "id": "781db746-a637-4f21-a9ea-80dc08f1ea57",
   "metadata": {},
   "outputs": [],
   "source": [
    "%h$!P"
   ]
  }
 ],
 "metadata": {
  "kernelspec": {
   "display_name": "Python 3 (ipykernel)",
   "language": "python",
   "name": "python3"
  },
  "language_info": {
   "codemirror_mode": {
    "name": "ipython",
    "version": 3
   },
   "file_extension": ".py",
   "mimetype": "text/x-python",
   "name": "python",
   "nbconvert_exporter": "python",
   "pygments_lexer": "ipython3",
   "version": "3.11.7"
  }
 },
 "nbformat": 4,
 "nbformat_minor": 5
}
